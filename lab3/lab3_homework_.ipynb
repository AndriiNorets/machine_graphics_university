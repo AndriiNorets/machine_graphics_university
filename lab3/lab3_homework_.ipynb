{
 "cells": [
  {
   "cell_type": "markdown",
   "id": "123fea8e",
   "metadata": {
    "ExecuteTime": {
     "end_time": "2024-10-22T10:17:23.684561Z",
     "start_time": "2024-10-22T10:17:23.679346Z"
    }
   },
   "source": [
    "# import libraries"
   ]
  },
  {
   "cell_type": "code",
   "execution_count": 1,
   "id": "22296855",
   "metadata": {},
   "outputs": [],
   "source": [
    "import numpy as np\n",
    "from PIL import Image  "
   ]
  },
  {
   "cell_type": "markdown",
   "id": "68598932",
   "metadata": {},
   "source": [
    "### 1. Napisz funkcje rysuj_ramki_szare(w,h,grub, ?) oraz  rysuj_pasy_pionowe_szare(w,h,grub. ?) analogiczne do rysuj_ramki(w,h,grub) oraz rysuj_pasy_pionowe(w,h,grub) w wyniku których otrzymasz obraz w trybie L  taki, że zamiast czarnego i białego koloru pojawiają się odcienie szarości (według własnego uznania, ale według ustalonej reguły, którą trzeba będzie opisać). Zastosuj te funkcje a otrzymane obrazy (przyjmij w = 300, h=200, grub = 5) wklej do raportu.  Zapisz obrazy w formacie png i wstaw na Moodle."
   ]
  },
  {
   "cell_type": "markdown",
   "id": "7acd6e84",
   "metadata": {},
   "source": [
    "### Zastosowałem podobną funkcję jak rysuj_pasy_pionowe(), z tą różnicą, że kolor '0' został zastąpiony kolorem przekazanym jako argument, w tym przypadku szarym"
   ]
  },
  {
   "cell_type": "code",
   "execution_count": 2,
   "id": "45a8ceb7bd91f127",
   "metadata": {
    "ExecuteTime": {
     "end_time": "2024-10-22T10:17:23.728531Z",
     "start_time": "2024-10-22T10:17:23.714596Z"
    }
   },
   "outputs": [
    {
     "data": {
      "image/png": "[encoded data removed]",
      "text/plain": [
       "<PIL.Image.Image image mode=L size=120x60>"
      ]
     },
     "execution_count": 2,
     "metadata": {},
     "output_type": "execute_result"
    }
   ],
   "source": [
    "def rysuj_ramke_szare(w, h, grub, kolor_ramki): \n",
    "    t = (h, w)\n",
    "    tab = np.ones(t, dtype=np.uint8)\n",
    "    tab[:] = kolor_ramki  \n",
    "    tab[grub : h-grub, grub : w-grub] = 255 \n",
    "    return Image.fromarray(tab)\n",
    "\n",
    "\n",
    "zad1_1 = rysuj_ramke_szare(120, 60, 8, 100)\n",
    "zad1_1.save('zad1_1.png')\n",
    "\n",
    "zad1_1 "
   ]
  },
  {
   "cell_type": "code",
   "execution_count": 3,
   "id": "15b8f24a",
   "metadata": {
    "ExecuteTime": {
     "end_time": "2024-10-22T10:17:23.849383Z",
     "start_time": "2024-10-22T10:17:23.822193Z"
    }
   },
   "outputs": [
    {
     "data": {
      "image/png": "[encoded data removed]",
      "text/plain": [
       "<PIL.Image.Image image mode=L size=100x50>"
      ]
     },
     "execution_count": 3,
     "metadata": {},
     "output_type": "execute_result"
    }
   ],
   "source": [
    "def rysuj_pasy_pionowe_szare(w: int,h: int,grub: int, kolor_pasow):\n",
    "    table = np.ones((h,w), dtype = np.uint8) * 255\n",
    "    \n",
    "    for index in range(0, w, grub * 2):\n",
    "        \n",
    "        table[: , index : index + grub ] = kolor_pasow\n",
    "    \n",
    "    return Image.fromarray(table)\n",
    "\n",
    "w = 100\n",
    "h = 50\n",
    "grub = 10\n",
    "kolor_pasow = 100\n",
    "\n",
    "zad1_2 = rysuj_pasy_pionowe_szare(w, h, grub, kolor_pasow)\n",
    "zad1_2.save('zad1_2.png')\n",
    "\n",
    "zad1_2"
   ]
  },
  {
   "cell_type": "markdown",
   "id": "e28a25f2",
   "metadata": {},
   "source": [
    "###  2. Napisz funkcję negatyw(obraz), która rozpoznaje tryb wczytanego obrazu i jeśli jest jeden z trybów (‘1’, ‘L’, ‘RGB’) to tworzy jego negatyw. Zastosuj funkcję do następujących obrazów "
   ]
  },
  {
   "cell_type": "markdown",
   "id": "289adac2",
   "metadata": {},
   "source": [
    "#### a) gwiazdka.bmp "
   ]
  },
  {
   "cell_type": "code",
   "execution_count": 4,
   "id": "f132a3a5",
   "metadata": {
    "ExecuteTime": {
     "end_time": "2024-10-22T10:17:24.013554Z",
     "start_time": "2024-10-22T10:17:23.997707Z"
    }
   },
   "outputs": [],
   "source": [
    "def negatyw(image):  \n",
    "    image_table = np.asarray(image, dtype = np.uint8)\n",
    "    result = image_table.copy()\n",
    "    \n",
    "    if image.mode == 'RGB':\n",
    "        h, w, rgb = image_table.shape\n",
    "        for i in range(h):\n",
    "            for j in range(w):\n",
    "                for k in range(rgb):\n",
    "                    result[i, j, k] = 255 - image_table[i, j, k]\n",
    "                    \n",
    "    elif image.mode == '1' or image.mode == 'L':\n",
    "        h, w = image_table.shape\n",
    "        for i in range(h):\n",
    "            for j in range(w):\n",
    "                result[i, j] = 255 - image_table[i, j]\n",
    "                \n",
    "    return Image.fromarray(result)\n"
   ]
  },
  {
   "cell_type": "code",
   "execution_count": 5,
   "id": "bbcefba8",
   "metadata": {
    "ExecuteTime": {
     "end_time": "2024-10-22T10:17:24.080714Z",
     "start_time": "2024-10-22T10:17:24.040152Z"
    }
   },
   "outputs": [
    {
     "data": {
      "image/png": "[encoded data removed]",
      "text/plain": [
       "<PIL.Image.Image image mode=L size=150x200>"
      ]
     },
     "execution_count": 5,
     "metadata": {},
     "output_type": "execute_result"
    }
   ],
   "source": [
    "gwiazdka = Image.open('gwiazdka.bmp')\n",
    "\n",
    "\n",
    "negative_image = negatyw(gwiazdka)\n",
    "\n",
    "negative_image.save('zad2_1.png')\n",
    "\n",
    "negative_image"
   ]
  },
  {
   "cell_type": "markdown",
   "id": "89e6c2ae",
   "metadata": {},
   "source": [
    "#### b) rysuj_ramki_kolorowe(200, [20, 120,220], a, b, c)"
   ]
  },
  {
   "cell_type": "code",
   "execution_count": 6,
   "id": "0a481c59",
   "metadata": {
    "ExecuteTime": {
     "end_time": "2024-10-22T10:17:25.423598Z",
     "start_time": "2024-10-22T10:17:24.140869Z"
    }
   },
   "outputs": [
    {
     "data": {
      "image/png": "[encoded data removed]",
      "text/plain": [
       "<PIL.Image.Image image mode=RGB size=200x200>"
      ]
     },
     "execution_count": 6,
     "metadata": {},
     "output_type": "execute_result"
    }
   ],
   "source": [
    "def rysuj_ramki_kolorowe(w, kolor, zmiana_koloru_r, zmiana_koloru_g, zmiana_koloru_b):\n",
    "    t = (w, w, 3)\n",
    "    tab = np.zeros(t, dtype=np.uint8)\n",
    "    kolor_r = kolor[0]\n",
    "    kolor_g = kolor[1]\n",
    "    kolor_b = kolor[2]\n",
    "    z = w\n",
    "    for k in range(int(w / 2)):\n",
    "        for i in range(k, z - k):\n",
    "            for j in range(k, z - k):\n",
    "                tab[i, j] = [kolor_r, kolor_g, kolor_b]\n",
    "        kolor_r = (kolor_r - zmiana_koloru_r) % 256\n",
    "        kolor_g = (kolor_g - zmiana_koloru_g) % 256\n",
    "        kolor_b = (kolor_b - zmiana_koloru_b) % 256\n",
    "    return Image.fromarray(tab)\n",
    "\n",
    "zad2_2 = negatyw(rysuj_ramki_kolorowe(200, [20, 120,220], 6, 6, -6))\n",
    "zad2_2.save('zad2_2.png')\n",
    "\n",
    "zad2_2"
   ]
  },
  {
   "cell_type": "code",
   "execution_count": 7,
   "id": "c2057a24",
   "metadata": {
    "ExecuteTime": {
     "end_time": "2024-10-22T10:17:26.186952Z",
     "start_time": "2024-10-22T10:17:25.449479Z"
    }
   },
   "outputs": [
    {
     "data": {
      "image/png": "[encoded data removed]",
      "text/plain": [
       "<PIL.Image.Image image mode=RGB size=200x200>"
      ]
     },
     "execution_count": 7,
     "metadata": {},
     "output_type": "execute_result"
    }
   ],
   "source": [
    "rysuj_ramki_kolorowe(200, [20, 120,220], 6, 6, -6)"
   ]
  },
  {
   "cell_type": "markdown",
   "id": "1a31c428",
   "metadata": {},
   "source": [
    "#### c) rysuj_po_skosie_szare(100, 300, a, b)  gdzie a = liczba liter w imieniu, b = liczba liter w nazwisku, c = -a"
   ]
  },
  {
   "cell_type": "code",
   "execution_count": 8,
   "id": "99adb2dc",
   "metadata": {
    "ExecuteTime": {
     "end_time": "2024-10-22T10:17:26.261328Z",
     "start_time": "2024-10-22T10:17:26.212583Z"
    }
   },
   "outputs": [
    {
     "data": {
      "image/png": "[encoded data removed]",
      "text/plain": [
       "<PIL.Image.Image image mode=L size=300x100>"
      ]
     },
     "execution_count": 8,
     "metadata": {},
     "output_type": "execute_result"
    }
   ],
   "source": [
    "def rysuj_po_skosie_szare(h,w, a, b):  \n",
    "    t = (h, w) # rysuje kwadratowy obraz\n",
    "    tab = np.zeros(t, dtype=np.uint8)\n",
    "    for i in range(h):\n",
    "        for j in range(w):\n",
    "            tab[i, j] = (a*i + b*j) % 256 \n",
    "    return Image.fromarray(tab)\n",
    "\n",
    "zad2_3 = negatyw(rysuj_po_skosie_szare(100, 300, 6, 6))\n",
    "zad2_3.save('zad2_3.png')\n",
    "\n",
    "zad2_3"
   ]
  },
  {
   "cell_type": "code",
   "execution_count": 9,
   "id": "addc4b5f",
   "metadata": {
    "ExecuteTime": {
     "end_time": "2024-10-22T10:17:26.316163Z",
     "start_time": "2024-10-22T10:17:26.292143Z"
    }
   },
   "outputs": [
    {
     "data": {
      "image/png": "[encoded data removed]",
      "text/plain": [
       "<PIL.Image.Image image mode=L size=300x100>"
      ]
     },
     "execution_count": 9,
     "metadata": {},
     "output_type": "execute_result"
    }
   ],
   "source": [
    "rysuj_po_skosie_szare(100, 300, 6, 6)"
   ]
  },
  {
   "cell_type": "markdown",
   "id": "8daa2293",
   "metadata": {},
   "source": [
    "#### Otrzymane obrazy (oryginalny i negatyw) wklej do raportu. Negatywy zapisz w formacie png i wstaw na Moodle."
   ]
  },
  {
   "cell_type": "markdown",
   "id": "16dc34f9a3d3bdc0",
   "metadata": {},
   "source": [
    "###  3. Napisz funkcję koloruj_w_paski(obraz, grub, ?) , która dla danego obrazu w trybie ‘1’ (np. czarne kształty na białym tle) tworzy obraz w trybie ‘RGB’, w którym tło jest białe a kształty są pokolorowane w kolorowe poziome paski grubości grub. Sposób kolorowania (zmianę koloru) proszę wcześniej opisać i ewentualnie uwzględnić w argumentach funkcji.\n",
    "#### a) Wykonaj funkcję koloruj_w_paski(obraz, grub, ?) , gdzie obraz to czarno-biały obraz z inicjałami własnymi z lab1. Następnie zapisz w formacie jpg oraz png. Czy otrzymane obrazy są takie same? Dlaczego tak się dzieje?\n",
    "#### Otrzymany obraz wklej do raportu. W raporcie uzasadnij odpowiedź. Zapisane obrazy wstaw na Moodle"
   ]
  },
  {
   "cell_type": "code",
   "execution_count": 10,
   "id": "eb15519e",
   "metadata": {},
   "outputs": [
    {
     "data": {
      "text/plain": [
       "'1'"
      ]
     },
     "execution_count": 10,
     "metadata": {},
     "output_type": "execute_result"
    }
   ],
   "source": [
    "image_signature = Image.open('an.bmp')\n",
    "image_signature.mode"
   ]
  },
  {
   "cell_type": "code",
   "execution_count": 11,
   "id": "1c4e8fae91afdbf2",
   "metadata": {
    "ExecuteTime": {
     "end_time": "2024-10-22T10:17:26.632354Z",
     "start_time": "2024-10-22T10:17:26.345988Z"
    },
    "scrolled": true
   },
   "outputs": [
    {
     "data": {
      "image/png": "[encoded data removed]",
      "text/plain": [
       "<PIL.Image.Image image mode=RGB size=100x50>"
      ]
     },
     "execution_count": 11,
     "metadata": {},
     "output_type": "execute_result"
    }
   ],
   "source": [
    "\n",
    "def koloruj_w_paski(image, grub, colors):\n",
    "    if image.mode != '1':\n",
    "        raise ValueError(\"Image not in 'black-white' mode\")\n",
    "        \n",
    "    image_rgb = image.convert(\"RGB\")\n",
    "    pix = image_rgb.load()\n",
    "\n",
    "    w, h = image.size\n",
    "\n",
    "    for h_index in range(h):\n",
    "        for w_index in range(w):\n",
    "            if pix[w_index, h_index] == (0, 0, 0):  \n",
    "                stripe_color = colors[(h_index // grub) % len(colors)]\n",
    "                pix[w_index, h_index] = stripe_color\n",
    "            else:\n",
    "                pix[w_index, h_index] = (255, 255, 255)  \n",
    "\n",
    "    return image_rgb\n",
    "\n",
    "\n",
    "colors = [(212, 0, 0), (0, 45, 0), (0, 0, 155)]\n",
    "\n",
    "\n",
    "an_with_colors = koloruj_w_paski(image_signature, grub=10, colors=colors)\n",
    "\n",
    "an_with_colors.save('an_straps.jpg')\n",
    "an_with_colors.save('an_straps.png')\n",
    "\n",
    "an_with_colors"
   ]
  },
  {
   "cell_type": "markdown",
   "id": "48090d1d",
   "metadata": {},
   "source": [
    "### Czy obrazy PNG i JPG są takie same? Dlaczego tak się dzieje?"
   ]
  },
  {
   "cell_type": "code",
   "execution_count": 12,
   "id": "511a7e4a",
   "metadata": {},
   "outputs": [],
   "source": [
    "image_jpg = Image.open('an_straps.jpg')\n",
    "image_png = Image.open('an_straps.png')"
   ]
  },
  {
   "cell_type": "code",
   "execution_count": 13,
   "id": "78cc38bc",
   "metadata": {},
   "outputs": [
    {
     "name": "stdout",
     "output_type": "stream",
     "text": [
      "AN JPG image\n",
      "tryb: RGB\n",
      "format: JPEG\n",
      "rozmiar: (100, 50)\n",
      "typ danych tablicy: uint8\n",
      "rozmiar tablicy: (50, 100, 3)\n",
      "liczba elementow: 15000\n",
      "wymiar tablicy: 3\n",
      "rozmiar wyrazu tablicy: 1\n"
     ]
    },
    {
     "data": {
      "image/png": "[encoded data removed]",
      "text/plain": [
       "<PIL.JpegImagePlugin.JpegImageFile image mode=RGB size=100x50>"
      ]
     },
     "execution_count": 13,
     "metadata": {},
     "output_type": "execute_result"
    }
   ],
   "source": [
    "an_jpg_table = np.asarray(image_jpg)\n",
    "print('AN JPG image')\n",
    "print(\"tryb:\", image_jpg.mode)\n",
    "print(\"format:\", image_jpg.format)\n",
    "print(\"rozmiar:\", image_jpg.size)\n",
    "print(\"typ danych tablicy:\", an_jpg_table.dtype)  \n",
    "print(\"rozmiar tablicy:\", an_jpg_table.shape)  \n",
    "print(\"liczba elementow:\", an_jpg_table.size)  \n",
    "print(\"wymiar tablicy:\", an_jpg_table.ndim)  \n",
    "print(\"rozmiar wyrazu tablicy:\",\n",
    "      an_jpg_table.itemsize)\n",
    "image_jpg"
   ]
  },
  {
   "cell_type": "code",
   "execution_count": 14,
   "id": "d4706c89",
   "metadata": {},
   "outputs": [
    {
     "name": "stdout",
     "output_type": "stream",
     "text": [
      "AN PNG image\n",
      "tryb: RGB\n",
      "format: PNG\n",
      "rozmiar: (100, 50)\n",
      "typ danych tablicy: uint8\n",
      "rozmiar tablicy: (50, 100, 3)\n",
      "liczba elementow: 15000\n",
      "wymiar tablicy: 3\n",
      "rozmiar wyrazu tablicy: 1\n"
     ]
    },
    {
     "data": {
      "image/png": "[encoded data removed]",
      "text/plain": [
       "<PIL.PngImagePlugin.PngImageFile image mode=RGB size=100x50>"
      ]
     },
     "execution_count": 14,
     "metadata": {},
     "output_type": "execute_result"
    }
   ],
   "source": [
    "an_png_table = np.asarray(image_png)\n",
    "print('AN PNG image')\n",
    "print(\"tryb:\", image_png.mode)\n",
    "print(\"format:\", image_png.format)\n",
    "print(\"rozmiar:\", image_png.size)\n",
    "print(\"typ danych tablicy:\", an_png_table.dtype)  \n",
    "print(\"rozmiar tablicy:\", an_png_table.shape)  \n",
    "print(\"liczba elementow:\", an_png_table.size)  \n",
    "print(\"wymiar tablicy:\", an_png_table.ndim)  \n",
    "print(\"rozmiar wyrazu tablicy:\",\n",
    "      an_png_table.itemsize)\n",
    "image_png"
   ]
  },
  {
   "cell_type": "markdown",
   "id": "87cc52c3",
   "metadata": {},
   "source": [
    "#### Przy porównywaniu właściwości obrazków i ich tablic różnicy nie było widać,ale różnica jest: \n",
    "* Zwykle obraz JPEG zajmuje mniej miejsca, chociaż w naszym przypadku obraz w JPEG(1749 bajt) zajmuje więcej miejsca w bajtach niż obraz w trybie PNG(406 bajt). \n",
    "* Przy ściśnięciu obrazu JPG mogą pojawić się artefakty na obrazie, a w PNG pozostaje jakość obrazu. \n",
    "* Zwykle obraz w trybie JPEG ma 3 kanaly koloru(RGB), gdy PNG może mieć ich więćej(RGB, RGBA)."
   ]
  },
  {
   "cell_type": "markdown",
   "id": "a95c6c36896553ee",
   "metadata": {},
   "source": [
    "### 4. Jak działa typ uint8 w przypadku, gdy podana wartość koloru przekracza 255 lub jest ujemna? Jaka wartość będzie, gdy podamy a) 328 b) -24 ? W raporcie zapisz uzasadnienie odpowiedzi.\n",
    "\n",
    "#### Overflow or Underflow\n",
    "* Jeżeli będzie podana wartość większa niż 255 to zapisze się następna wartość: (podana wartość) % 255 \n",
    "* Jeżeli będzie podana wartość ujemna to zapisze się następna wartość: -(podana wartość) + 256 \n",
    "\n",
    "#### a) 328: \n",
    "* zapisana wartość = 328 % 256 = 72\n",
    "#### b) -24: \n",
    "* zapisana watość = -24 + 256 = 232"
   ]
  }
 ],
 "metadata": {
  "kernelspec": {
   "display_name": "Python 3 (ipykernel)",
   "language": "python",
   "name": "python3"
  },
  "language_info": {
   "codemirror_mode": {
    "name": "ipython",
    "version": 3
   },
   "file_extension": ".py",
   "mimetype": "text/x-python",
   "name": "python",
   "nbconvert_exporter": "python",
   "pygments_lexer": "ipython3",
   "version": "3.11.3"
  }
 },
 "nbformat": 4,
 "nbformat_minor": 5
}

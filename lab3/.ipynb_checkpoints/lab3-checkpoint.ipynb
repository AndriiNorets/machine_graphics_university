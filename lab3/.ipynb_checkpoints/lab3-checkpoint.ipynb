{
 "cells": [
  {
   "cell_type": "code",
   "execution_count": 53,
   "metadata": {},
   "outputs": [],
   "source": [
    "from PIL import Image  \n",
    "import numpy as np"
   ]
  },
  {
   "cell_type": "markdown",
   "metadata": {},
   "source": [
    "obrazy w trybie L"
   ]
  },
  {
   "cell_type": "code",
   "execution_count": 54,
   "metadata": {},
   "outputs": [
    {
     "data": {
      "image/png": "[encoded data removed]",
      "text/plain": [
       "<PIL.Image.Image image mode=L size=120x60 at 0x191FD793FD0>"
      ]
     },
     "execution_count": 54,
     "metadata": {},
     "output_type": "execute_result"
    }
   ],
   "source": [
    "def rysuj_ramke_szare(w, h, grub, kolor_ramki, kolor): #kolor od 0 do 255\n",
    "    t = (h, w)\n",
    "    tab = np.ones(t, dtype=np.uint8)\n",
    "    tab[:] = kolor_ramki  # wypełnienie tablicy szarym kolorem o wartości kolor_ramki\n",
    "    tab[grub:h-grub, grub:w-grub] = kolor  # wypełnienie podtablicy kolorem o wartości kolor\n",
    "    return Image.fromarray(tab)\n",
    "\n",
    "\n",
    "im_ramka = rysuj_ramke_szare(120, 60, 8, 100, 200)\n",
    "im_ramka "
   ]
  },
  {
   "cell_type": "code",
   "execution_count": 55,
   "metadata": {},
   "outputs": [
    {
     "data": {
      "image/png": "[encoded data removed]",
      "text/plain": [
       "<PIL.Image.Image image mode=L size=100x246 at 0x191FF1159D0>"
      ]
     },
     "execution_count": 55,
     "metadata": {},
     "output_type": "execute_result"
    }
   ],
   "source": [
    "def rysuj_pasy_poziome_szare(w, h, grub, zmiana_koloru):  \n",
    "    t = (h, w)\n",
    "    tab = np.ones(t, dtype=np.uint8)\n",
    "    ile = int(h / grub)\n",
    "    for k in range(ile):\n",
    "        for g in range(grub):\n",
    "            i = k * grub + g\n",
    "            for j in range(w):\n",
    "                tab[i, j] = (k + zmiana_koloru) % 256\n",
    "    return Image.fromarray(tab)\n",
    "\n",
    "\n",
    "im_paski = rysuj_pasy_poziome_szare(100, 246, 1, 10)\n",
    "im_paski"
   ]
  },
  {
   "cell_type": "code",
   "execution_count": 56,
   "metadata": {},
   "outputs": [
    {
     "data": {
      "image/png": "[encoded data removed]",
      "text/plain": [
       "<PIL.Image.Image image mode=L size=100x246 at 0x191FD7F1130>"
      ]
     },
     "execution_count": 56,
     "metadata": {},
     "output_type": "execute_result"
    }
   ],
   "source": [
    "def negatyw_szare(obraz):  \n",
    "    tab = np.asarray(obraz) \n",
    "    h, w = tab.shape\n",
    "    tab_neg = tab.copy()\n",
    "    for i in range(h):\n",
    "        for j in range(w):\n",
    "            tab_neg[i, j] = 255 - tab[i, j]\n",
    "    return Image.fromarray(tab_neg)\n",
    "\n",
    "\n",
    "obraz_neg = negatyw_szare(im_paski)\n",
    "obraz_neg"
   ]
  },
  {
   "cell_type": "code",
   "execution_count": 71,
   "metadata": {},
   "outputs": [
    {
     "data": {
      "image/png": "[encoded data removed]",
      "text/plain": [
       "<PIL.Image.Image image mode=L size=300x100 at 0x191FF111DF0>"
      ]
     },
     "execution_count": 71,
     "metadata": {},
     "output_type": "execute_result"
    }
   ],
   "source": [
    "def rysuj_po_skosie_szare(h,w, a, b):  # formuła zmiany wartości elemntów tablicy a*i + b*j\n",
    "    t = (h, w) # rysuje kwadratowy obraz\n",
    "    tab = np.zeros(t, dtype=np.uint8)\n",
    "    for i in range(h):\n",
    "        for j in range(w):\n",
    "            tab[i, j] = (a*i + b*j) % 256 \n",
    "    return Image.fromarray(tab)\n",
    "\n",
    "\n",
    "im_skos = rysuj_po_skosie_szare(100, 300, 1, 3)\n",
    "im_skos"
   ]
  },
  {
   "cell_type": "markdown",
   "metadata": {},
   "source": [
    "obrazy w trybie RGB"
   ]
  },
  {
   "cell_type": "code",
   "execution_count": 58,
   "metadata": {},
   "outputs": [
    {
     "data": {
      "image/png": "[encoded data removed]",
      "text/plain": [
       "<PIL.Image.Image image mode=RGB size=120x60 at 0x191FD7F1E20>"
      ]
     },
     "execution_count": 58,
     "metadata": {},
     "output_type": "execute_result"
    }
   ],
   "source": [
    "def rysuj_ramke_kolor(w, h, grub, kolor_ramki, kolor_tla):  # kolor_ramki, kolor podajemy w postaci [r, g, b]\n",
    "    t = (h, w, 3)  # rozmiar tablicy\n",
    "    tab = np.ones(t, dtype=np.uint8)  # deklaracja tablicy\n",
    "    tab[:] = kolor_ramki  # wypełnienie tablicy kolorem kolor_ramki\n",
    "    tab[grub:h - grub, grub:w - grub, 0] = kolor_tla[0]  #  wartości kanału R \n",
    "    tab[grub:h - grub, grub:w - grub, 1] = kolor_tla[1]  #  wartości kanału G \n",
    "    tab[grub:h - grub, grub:w - grub, 2] = kolor_tla[2]  #  wartości kanału B \n",
    "    # tab[grub:h - grub, grub:w - grub] = kolor_tla # wersja równoważna\n",
    "    return Image.fromarray(tab)\n",
    "\n",
    "\n",
    "im_ramka_kolor = rysuj_ramke_kolor(120, 60, 8, [0, 0, 255], [100, 200, 0])\n",
    "im_ramka_kolor\n"
   ]
  },
  {
   "cell_type": "code",
   "execution_count": 59,
   "metadata": {},
   "outputs": [
    {
     "data": {
      "image/png": "[encoded data removed]",
      "text/plain": [
       "<PIL.Image.Image image mode=RGB size=200x100 at 0x191FD7932E0>"
      ]
     },
     "execution_count": 59,
     "metadata": {},
     "output_type": "execute_result"
    }
   ],
   "source": [
    "def rysuj_pasy_poziome_3kolory(w, h, grub):  # funkcja rysuje pasy poziome na przemian czerwony, zielony, niebieski\n",
    "    t = (h, w, 3)\n",
    "    tab = np.ones(t, dtype=np.uint8)\n",
    "    ile = int(h / grub)\n",
    "    for k in range(ile):\n",
    "        for g in range(grub):\n",
    "            i = k * grub + g\n",
    "            for j in range(w):\n",
    "                if k % 3 == 0:\n",
    "                    tab[i, j] = [255, 0, 0]\n",
    "                elif k % 3 == 1:\n",
    "                    tab[i, j] = [0, 255, 0]\n",
    "                else:\n",
    "                    tab[i, j] = [0, 0, 255]\n",
    "    return Image.fromarray(tab)\n",
    "\n",
    "\n",
    "obraz1 = rysuj_pasy_poziome_3kolory(200, 100, 10)\n",
    "obraz1\n"
   ]
  },
  {
   "cell_type": "code",
   "execution_count": 72,
   "metadata": {},
   "outputs": [
    {
     "data": {
      "image/png": "[encoded data removed]",
      "text/plain": [
       "<PIL.Image.Image image mode=RGB size=200x100 at 0x191FD774370>"
      ]
     },
     "execution_count": 72,
     "metadata": {},
     "output_type": "execute_result"
    }
   ],
   "source": [
    "def rysuj_pasy_poziome_kolor(w, h, grub, kolor,\n",
    "                             zmiana_koloru):  # funkcja rysuje pasy poziome, przy czym kazda składowa koloru zwieksza się o \"zmiana_koloru\"\n",
    "    t = (h, w, 3)\n",
    "    tab = np.ones(t, dtype=np.uint8)\n",
    "    tab[:] = kolor\n",
    "    ile = int(h / grub)\n",
    "    for k in range(ile):\n",
    "        r = (kolor[0] + k * zmiana_koloru) % 256\n",
    "        g = (kolor[1] + k * zmiana_koloru) % 256\n",
    "        b = (kolor[2] + k * zmiana_koloru) % 256\n",
    "        for m in range(grub):\n",
    "            i = k * grub + m\n",
    "            for j in range(w):\n",
    "                tab[i, j] = [r, g, b]\n",
    "    return Image.fromarray(tab)\n",
    "\n",
    "\n",
    "obraz2 = rysuj_pasy_poziome_kolor(200, 100, 10, [100, 200, 0], 32)\n",
    "obraz2\n"
   ]
  },
  {
   "cell_type": "code",
   "execution_count": 61,
   "metadata": {},
   "outputs": [
    {
     "data": {
      "image/png": "[encoded data removed]",
      "text/plain": [
       "<PIL.Image.Image image mode=RGB size=150x200 at 0x191FD793940>"
      ]
     },
     "execution_count": 61,
     "metadata": {},
     "output_type": "execute_result"
    }
   ],
   "source": [
    "def koloruj_obraz(obraz, kolor):\n",
    "    t_obraz = np.asarray(obraz)\n",
    "    h, w = t_obraz.shape\n",
    "    t =(h, w, 3)\n",
    "    tab = np.ones(t, dtype=np.uint8)\n",
    "    for i in range(h):\n",
    "        for j in range(w):\n",
    "            if t_obraz[i, j] == False:\n",
    "                tab[i, j] = kolor\n",
    "            else:\n",
    "                tab[i, j] = [255, 255, 255]\n",
    "    return Image.fromarray(tab)\n",
    "\n",
    "gwiazdka = Image.open(\"gwiazdka.bmp\")\n",
    "obraz3 = koloruj_obraz(gwiazdka, [120, 240, 50])\n",
    "obraz3"
   ]
  },
  {
   "cell_type": "code",
   "execution_count": 73,
   "metadata": {},
   "outputs": [
    {
     "data": {
      "image/png": "[encoded data removed]",
      "text/plain": [
       "<PIL.Image.Image image mode=RGB size=200x200 at 0x191FD7F1A30>"
      ]
     },
     "execution_count": 73,
     "metadata": {},
     "output_type": "execute_result"
    }
   ],
   "source": [
    "def rysuj_ramki_kolorowe(w, kolor, zmiana_koloru_r, zmiana_koloru_g, zmiana_koloru_b):\n",
    "    t = (w, w, 3)\n",
    "    tab = np.zeros(t, dtype=np.uint8)\n",
    "    kolor_r = kolor[0]\n",
    "    kolor_g = kolor[1]\n",
    "    kolor_b = kolor[2]\n",
    "    z = w\n",
    "    for k in range(int(w / 2)):\n",
    "        for i in range(k, z - k):\n",
    "            for j in range(k, z - k):\n",
    "                tab[i, j] = [kolor_r, kolor_g, kolor_b]\n",
    "        kolor_r = (kolor_r - zmiana_koloru_r) % 256\n",
    "        kolor_g = (kolor_g - zmiana_koloru_g) % 256\n",
    "        kolor_b = (kolor_b - zmiana_koloru_b) % 256\n",
    "    return Image.fromarray(tab)\n",
    "\n",
    "\n",
    "obraz3 = rysuj_ramki_kolorowe(200, [20,120,220], 6, 7, -6)\n",
    "obraz3"
   ]
  }
 ],
 "metadata": {
  "kernelspec": {
   "display_name": "Python 3 (ipykernel)",
   "language": "python",
   "name": "python3"
  },
  "language_info": {
   "codemirror_mode": {
    "name": "ipython",
    "version": 3
   },
   "file_extension": ".py",
   "mimetype": "text/x-python",
   "name": "python",
   "nbconvert_exporter": "python",
   "pygments_lexer": "ipython3",
   "version": "3.11.3"
  }
 },
 "nbformat": 4,
 "nbformat_minor": 2
}

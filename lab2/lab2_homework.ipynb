{
 "cells": [
  {
   "cell_type": "markdown",
   "id": "9301db6e",
   "metadata": {},
   "source": [
    "# Import libraries"
   ]
  },
  {
   "cell_type": "code",
   "execution_count": 1,
   "id": "c25e9706",
   "metadata": {},
   "outputs": [],
   "source": [
    "from PIL import Image  # Python Imaging Library\n",
    "import numpy as np"
   ]
  },
  {
   "cell_type": "markdown",
   "id": "6399124c",
   "metadata": {},
   "source": []
  },
  {
   "cell_type": "code",
   "execution_count": 2,
   "id": "504517ba",
   "metadata": {},
   "outputs": [
    {
     "name": "stdout",
     "output_type": "stream",
     "text": [
      "tryb 1\n",
      "format BMP\n",
      "rozmiar (100, 50)\n",
      "typ danych tablicy bool\n",
      "rozmiar tablicy (50, 100)\n"
     ]
    }
   ],
   "source": [
    "inicjaly = Image.open(\"an.bmp\")  # wczytywanie obrazu\n",
    "\n",
    "print(\"tryb\", inicjaly.mode)\n",
    "print(\"format\", inicjaly.format)\n",
    "print(\"rozmiar\", inicjaly.size)\n",
    "\n",
    "t_inicjaly = np.asarray(inicjaly)\n",
    "print(\"typ danych tablicy\", t_inicjaly.dtype)  # typ danych przechowywanych w tablicy\n",
    "print(\"rozmiar tablicy\", t_inicjaly.shape)  # rozmiar tablicy - warto porównac z wymiarami obrazka\n"
   ]
  },
  {
   "cell_type": "code",
   "execution_count": 3,
   "id": "ce2e950c",
   "metadata": {},
   "outputs": [
    {
     "data": {
      "image/png": "[encoded data removed]",
      "text/plain": [
       "<PIL.BmpImagePlugin.BmpImageFile image mode=1 size=100x50>"
      ]
     },
     "execution_count": 3,
     "metadata": {},
     "output_type": "execute_result"
    }
   ],
   "source": [
    "inicjaly"
   ]
  },
  {
   "cell_type": "markdown",
   "id": "b18e612b",
   "metadata": {},
   "source": [
    "# 1.Napisz funkcję rysuj_ramke_w_obrazie(obraz, grub)\n",
    "## 1.1 której argumentami są  \n",
    "* i. obraz  # obraz jest w trybie ‘ 1 ’ \n",
    "* ii. grubość ramki grub \n",
    "\n",
    "## 1.2 która działa następująco: \n",
    "* i. wczytuje tablicę obrazu obraz  w typie danych uint8 \n",
    "* ii. zmienia wartości elementów w ramce na brzegu obrazu tak, żeby powstała czarna ramka grubości grub \n",
    "* iii. zamienia typ tablicy na bool i tworzy nowy obraz czarno-biały. \n",
    "\n",
    "## 1.3 Wskazówka: wykorzystaj funkcję rysuj_paski_w_obrazie(obraz, grub)  "
   ]
  },
  {
   "cell_type": "code",
   "execution_count": 4,
   "id": "bf6520a0",
   "metadata": {},
   "outputs": [],
   "source": [
    "def rysuj_ramke_w_obrazie(tab_obraz: np.uint8, grub: int):   \n",
    "    h, w = tab_obraz.shape\n",
    "    \n",
    "    for i in range(h):\n",
    "        for j in range(grub):\n",
    "            tab_obraz[i][j]=0 \n",
    "        for j in range(w-grub,w):\n",
    "            tab_obraz[i][j]=0 \n",
    "            \n",
    "    for i in range(w):\n",
    "        for j in range(grub):\n",
    "            tab_obraz[j][i] = 0  \n",
    "        for j in range(h-grub, h): \n",
    "            tab_obraz[j][i] = 0  \n",
    "    \n",
    "    tab = tab_obraz.astype(bool) \n",
    "    return Image.fromarray(tab)"
   ]
  },
  {
   "cell_type": "code",
   "execution_count": 5,
   "id": "4779c031",
   "metadata": {},
   "outputs": [
    {
     "data": {
      "image/png": "[encoded data removed]",
      "text/plain": [
       "<PIL.Image.Image image mode=1 size=100x50>"
      ]
     },
     "execution_count": 5,
     "metadata": {},
     "output_type": "execute_result"
    }
   ],
   "source": [
    "tab_obraz = np.asarray(inicjaly).astype(np.uint8)\n",
    "rysuj_ramke_w_obrazie(tab_obraz=tab_obraz, grub=10)"
   ]
  },
  {
   "cell_type": "markdown",
   "id": "8aedd357",
   "metadata": {},
   "source": [
    "# 2. Napisz funkcje (dla każdego podpunktu oddzielnie), które dla podanych 𝑤 ,ℎ tworzą obrazy o wymiarach w×h, następująco: "
   ]
  },
  {
   "cell_type": "markdown",
   "id": "f3d07b5e",
   "metadata": {},
   "source": [
    "## 1.1 rysuj_ramki(w,h,grub)  - obraz na wyjściu ma na przemian czarną i białą ramkę grubości 𝑔𝑟𝑢𝑏  licząc od zewnętrznych krawędzi obrazu "
   ]
  },
  {
   "cell_type": "code",
   "execution_count": 6,
   "id": "6078746b",
   "metadata": {},
   "outputs": [
    {
     "data": {
      "image/png": "[encoded data removed]",
      "text/plain": [
       "<PIL.Image.Image image mode=L size=100x50>"
      ]
     },
     "execution_count": 6,
     "metadata": {},
     "output_type": "execute_result"
    }
   ],
   "source": [
    "def rysuj_ramki(w: int, h: int, grub: int):\n",
    "    table = np.ones((h, w), dtype=np.uint8) * 255 \n",
    "\n",
    "    liczba_ramek = min(h, w) // (2 * grub)  \n",
    "\n",
    "    for index in range(liczba_ramek):\n",
    "        kolor_wartosci = 0 if (index % 2)  == 0 else 255 \n",
    "\n",
    "        # Górna ramka\n",
    "        table[index * grub : (index + 1) *grub ,\n",
    "              index*grub:w-index*grub] = kolor_wartosci\n",
    "        \n",
    "        #Dolna ramka\n",
    "        table[h - (index + 1) * grub : h - (index * grub),\n",
    "              index * grub : w - index * grub] = kolor_wartosci\n",
    "\n",
    "        #Lewa ramka\n",
    "        table[index * grub : h - (index * grub), \n",
    "              index * grub : (index + 1) * grub] = kolor_wartosci\n",
    "        \n",
    "        #Prawa ramka\n",
    "        table[index * grub : h - (index * grub), \n",
    "              w - (index + 1) * grub : w - (index * grub)] = kolor_wartosci\n",
    "\n",
    "    return Image.fromarray(table)\n",
    "\n",
    "w = 100\n",
    "h = 50\n",
    "grub = 5\n",
    "rysuj_ramki(w,h,grub)"
   ]
  },
  {
   "cell_type": "markdown",
   "id": "981454d7",
   "metadata": {},
   "source": [
    "## 1.2 rysuj_pasy_pionowe(w,h,grub) -  obraz na wyjściu ma pionowe pasy grubości 𝑔𝑟𝑢𝑏  zaczynając od czarnego od lewej "
   ]
  },
  {
   "cell_type": "code",
   "execution_count": 7,
   "id": "ab3b41bf",
   "metadata": {},
   "outputs": [
    {
     "data": {
      "image/png": "[encoded data removed]",
      "text/plain": [
       "<PIL.Image.Image image mode=L size=100x50>"
      ]
     },
     "execution_count": 7,
     "metadata": {},
     "output_type": "execute_result"
    }
   ],
   "source": [
    "def rysuj_pasy_pionowe(w: int,h: int,grub: int):\n",
    "    table = np.ones((h,w), dtype = np.uint8) * 255\n",
    "    \n",
    "    for index in range(0, w, grub * 2):\n",
    "        \n",
    "        table[: , index : index + grub ] = 0\n",
    "    \n",
    "    return Image.fromarray(table)\n",
    "\n",
    "w = 100\n",
    "h = 50\n",
    "grub = 10\n",
    "rysuj_pasy_pionowe(w, h, grub)"
   ]
  },
  {
   "cell_type": "markdown",
   "id": "07e75936",
   "metadata": {},
   "source": [
    "## 1.3 rysuj_wlasne(w,h, ?)  -  spełnia wymagania własne autora (wymagania trzeba wcześniej opisać)"
   ]
  },
  {
   "cell_type": "code",
   "execution_count": 8,
   "id": "2239a7fb",
   "metadata": {},
   "outputs": [
    {
     "data": {
      "image/png": "[encoded data removed]",
      "text/plain": [
       "<PIL.Image.Image image mode=L size=100x50>"
      ]
     },
     "execution_count": 8,
     "metadata": {},
     "output_type": "execute_result"
    }
   ],
   "source": [
    "def rysuj_pasy_diagonalne(w: int, h: int, grub: int):\n",
    "    table = np.ones((h, w), dtype=np.uint8) * 255 \n",
    "    \n",
    "    for index in range(0, w + h, grub * 2):\n",
    "        for y in range(h):\n",
    "            \n",
    "            start = max(0, index - y)\n",
    "            end = min(w, index - y + grub)\n",
    "            \n",
    "            if start < end :\n",
    "                table[y, start : end] = 0  \n",
    "    \n",
    "    return Image.fromarray(table)\n",
    "\n",
    "w = 100\n",
    "h = 50\n",
    "grub = 10\n",
    "rysuj_pasy_diagonalne(w, h, grub)"
   ]
  },
  {
   "cell_type": "markdown",
   "id": "d9ea736e",
   "metadata": {},
   "source": [
    "# 3. Modyfikując funkcję wstaw_obraz(w, h, m, n, obraz) napisz funkcję wstaw_obraz_w_obraz(obraz_bazowy, obraz_wstawiany, m, n) , która w miejscu m, n obrazu_bazowego wstawia  obraz_wstawiany (wraz z tłem) "
   ]
  },
  {
   "cell_type": "code",
   "execution_count": 9,
   "id": "ca0971d5",
   "metadata": {},
   "outputs": [
    {
     "data": {
      "image/png": "[encoded data removed]",
      "text/plain": [
       "<PIL.Image.Image image mode=1 size=300x200>"
      ]
     },
     "execution_count": 9,
     "metadata": {},
     "output_type": "execute_result"
    }
   ],
   "source": [
    "def wstaw_obraz_w_obraz(obraz_bazowy, obraz_wstawiany, m, n):\n",
    "    tab_obraz = np.asarray(obraz_wstawiany) * 1  \n",
    "    h0, w0 = tab_obraz.shape \n",
    "\n",
    "    tab = np.asarray(obraz_bazowy) * 1 \n",
    "    h1, w1 = tab.shape  \n",
    "    \n",
    "    n_k = min(h1, n + h0)  \n",
    "    m_k = min(w1, m + w0)  \n",
    "    \n",
    "    n_p = max(0, n)\n",
    "    m_p = max(0, m) \n",
    "    \n",
    "    for i in range(n_p, n_k):\n",
    "        for j in range(m_p, m_k):\n",
    "            tab[i, j] = tab_obraz[i - n, j - m]\n",
    "    \n",
    "    tab = tab.astype(bool)  \n",
    "    return Image.fromarray(tab)  \n",
    "\n",
    "obraz_bazowy = Image.new('L', (300, 200), 0)  \n",
    "obraz_wstawiany = inicjaly  \n",
    "m = 30  \n",
    "n = 20  \n",
    "\n",
    "wstaw_obraz_w_obraz(obraz_bazowy, obraz_wstawiany, m, n)"
   ]
  }
 ],
 "metadata": {
  "kernelspec": {
   "display_name": "Python 3 (ipykernel)",
   "language": "python",
   "name": "python3"
  },
  "language_info": {
   "codemirror_mode": {
    "name": "ipython",
    "version": 3
   },
   "file_extension": ".py",
   "mimetype": "text/x-python",
   "name": "python",
   "nbconvert_exporter": "python",
   "pygments_lexer": "ipython3",
   "version": "3.11.3"
  }
 },
 "nbformat": 4,
 "nbformat_minor": 5
}
